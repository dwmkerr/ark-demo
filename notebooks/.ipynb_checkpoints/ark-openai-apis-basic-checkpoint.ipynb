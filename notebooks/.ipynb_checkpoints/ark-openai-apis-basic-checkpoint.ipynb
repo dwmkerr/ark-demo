{
 "cells": [
  {
   "cell_type": "markdown",
   "metadata": {},
   "source": [
    "# ARK OpenAI API - Basic Demo\n",
    "\n",
    "A simple, non-interactive demonstration of ARK's OpenAI-compatible API.\n",
    "This notebook:\n",
    "1. Configures the OpenAI client for ARK\n",
    "2. Lists available models/targets\n",
    "3. Sends a basic completion request to the default model"
   ]
  },
  {
   "cell_type": "code",
   "execution_count": null,
   "metadata": {},
   "outputs": [],
   "source": [
    "# Install OpenAI client\n",
    "!pip install openai\n",
    "\n",
    "from openai import OpenAI\n",
    "\n",
    "# Configuration\n",
    "ARK_ENDPOINT = \"http://ark-api.default.127.0.0.1.nip.io:8080/openai/v1\"\n",
    "API_KEY = \"dummy-key\"\n",
    "\n",
    "print(f\"ARK Endpoint: {ARK_ENDPOINT}\")\n",
    "print(f\"API Key: {API_KEY}\")\n",
    "\n",
    "# Create OpenAI client\n",
    "client = OpenAI(\n",
    "    base_url=ARK_ENDPOINT,\n",
    "    api_key=API_KEY\n",
    ")\n",
    "\n",
    "print(\"✅ Configuration complete\")"
   ]
  },
  {
   "cell_type": "code",
   "execution_count": null,
   "metadata": {},
   "outputs": [],
   "source": [
    "# List available targets (models, agents, teams, tools)\n",
    "print(\"📋 Available targets in ARK:\")\n",
    "print(\"=\" * 40)\n",
    "\n",
    "try:\n",
    "    targets = client.models.list()\n",
    "    target_names = [target.id for target in targets.data]\n",
    "    \n",
    "    # Group by type\n",
    "    models = [t for t in target_names if t.startswith('model/')]\n",
    "    agents = [t for t in target_names if t.startswith('agent/')]\n",
    "    teams = [t for t in target_names if t.startswith('team/')]\n",
    "    tools = [t for t in target_names if t.startswith('tool/')]\n",
    "    \n",
    "    print(f\"🤖 Models ({len(models)}):\")\n",
    "    for model in models[:5]:  # Show first 5\n",
    "        print(f\"  - {model}\")\n",
    "    if len(models) > 5:\n",
    "        print(f\"  ... and {len(models) - 5} more\")\n",
    "    \n",
    "    print(f\"\\n🧠 Agents ({len(agents)}):\")\n",
    "    for agent in agents:\n",
    "        print(f\"  - {agent}\")\n",
    "    \n",
    "    print(f\"\\n👥 Teams ({len(teams)}):\")\n",
    "    for team in teams:\n",
    "        print(f\"  - {team}\")\n",
    "    \n",
    "    print(f\"\\n🔧 Tools ({len(tools)}):\")\n",
    "    for tool in tools[:3]:  # Show first 3\n",
    "        print(f\"  - {tool}\")\n",
    "    if len(tools) > 3:\n",
    "        print(f\"  ... and {len(tools) - 3} more\")\n",
    "        \n",
    "    print(f\"\\n📊 Total targets: {len(target_names)}\")\n",
    "    \n",
    "except Exception as e:\n",
    "    print(f\"❌ Error listing targets: {e}\")"
   ]
  },
  {
   "cell_type": "code",
   "execution_count": null,
   "metadata": {},
   "outputs": [],
   "source": [
    "# Send a completion request to the default model\n",
    "print(\"💬 Sending completion request to default model:\")\n",
    "print(\"=\" * 50)\n",
    "\n",
    "try:\n",
    "    response = client.chat.completions.create(\n",
    "        model=\"default\",\n",
    "        messages=[\n",
    "            {\"role\": \"user\", \"content\": \"Hello! Please tell me about ARK in exactly one sentence.\"}\n",
    "        ],\n",
    "        max_tokens=100\n",
    "    )\n",
    "    \n",
    "    print(f\"📤 Request: Hello! Please tell me about ARK in exactly one sentence.\")\n",
    "    print(f\"📥 Response: {response.choices[0].message.content}\")\n",
    "    print(f\"🔧 Model used: {response.model if hasattr(response, 'model') else 'default'}\")\n",
    "    print(f\"🎯 Tokens used: {response.usage.total_tokens if response.usage else 'N/A'}\")\n",
    "    \n",
    "    print(\"\\n✅ Basic ARK OpenAI API demo completed successfully!\")\n",
    "    \n",
    "except Exception as e:\n",
    "    print(f\"❌ Error sending completion: {e}\")"
   ]
  }
 ],
 "metadata": {
  "kernelspec": {
   "display_name": "Python 3",
   "language": "python",
   "name": "python3"
  },
  "language_info": {
   "codemirror_mode": {
    "name": "ipython",
    "version": 3
   },
   "file_extension": ".py",
   "mimetype": "text/x-python",
   "name": "python",
   "nbconvert_exporter": "python",
   "pygments_lexer": "ipython3",
   "version": "3.12.0"
  }
 },
 "nbformat": 4,
 "nbformat_minor": 4
}